{
  "nbformat": 4,
  "nbformat_minor": 0,
  "metadata": {
    "colab": {
      "name": "Hopefield.ipynb",
      "provenance": [],
      "authorship_tag": "ABX9TyOJdnZ56fCqpCSOoj6doHJC",
      "include_colab_link": true
    },
    "kernelspec": {
      "name": "python3",
      "display_name": "Python 3"
    }
  },
  "cells": [
    {
      "cell_type": "markdown",
      "metadata": {
        "id": "view-in-github",
        "colab_type": "text"
      },
      "source": [
        "<a href=\"https://colab.research.google.com/github/reechakumari/Ansible_Automation/blob/master/Hopefield.ipynb\" target=\"_parent\"><img src=\"https://colab.research.google.com/assets/colab-badge.svg\" alt=\"Open In Colab\"/></a>"
      ]
    },
    {
      "cell_type": "code",
      "metadata": {
        "colab": {
          "base_uri": "https://localhost:8080/"
        },
        "id": "lObGtUb67Zyl",
        "outputId": "314db8b2-8173-446e-c35d-0d4cdb872576"
      },
      "source": [
        "import numpy as np\n",
        "x=np.array([[1,1,1,1,1],[1,-1,-1,1,-1],[-1,1,-1,-1,-1]])\n",
        "x1=np.transpose(x)\n",
        "t1=np.array([[1,1,1,-1,1]])\n",
        "t2=np.array([[1,-1,-1,-1,-1]])\n",
        "t3=np.array([[1,1,-1,-1,-1]])\n",
        "w=np.zeros((5,5))\n",
        "\n",
        "i=0\n",
        "j=0\n",
        "for i in range(int(5)):\n",
        "  for j in range(int(5)):\n",
        "    if(i==j):\n",
        "      w[i][j]=0\n",
        "\n",
        "for r in w:\n",
        "  print(r) \n",
        "\n",
        "E1=0\n",
        "E2=0\n",
        "E3=0\n",
        "x11= x[0].reshape(5,1)\n",
        "x12=x[1].reshape(5,1)\n",
        "x13=x[2].reshape(5,1)"
      ],
      "execution_count": 33,
      "outputs": [
        {
          "output_type": "stream",
          "text": [
            "[0. 0. 0. 0. 0.]\n",
            "[0. 0. 0. 0. 0.]\n",
            "[0. 0. 0. 0. 0.]\n",
            "[0. 0. 0. 0. 0.]\n",
            "[0. 0. 0. 0. 0.]\n"
          ],
          "name": "stdout"
        }
      ]
    },
    {
      "cell_type": "code",
      "metadata": {
        "colab": {
          "base_uri": "https://localhost:8080/"
        },
        "id": "K-pTct0-8O4h",
        "outputId": "9ff82b61-516b-42dc-c56d-fed12b194e2d"
      },
      "source": [
        "i=0\n",
        "j=0\n",
        "k=0\n",
        "for i in range(len(x1)):\n",
        "  for j in range(len(x[0])):\n",
        "    for k in range(len(x)):\n",
        "      w[i][j] += x1[i][k] * x[k][j]\n",
        "\n",
        "print('Weight Matrix:\\n')\n",
        "for r in w:\n",
        "  print(r)\n"
      ],
      "execution_count": 34,
      "outputs": [
        {
          "output_type": "stream",
          "text": [
            "Weight Matrix:\n",
            "\n",
            "[ 3. -1.  1.  3.  1.]\n",
            "[-1.  3.  1. -1.  1.]\n",
            "[1. 1. 3. 1. 3.]\n",
            "[ 3. -1.  1.  3.  1.]\n",
            "[1. 1. 3. 1. 3.]\n"
          ],
          "name": "stdout"
        }
      ]
    },
    {
      "cell_type": "code",
      "metadata": {
        "colab": {
          "base_uri": "https://localhost:8080/"
        },
        "id": "oqnPTxcq9DeN",
        "outputId": "a94abdbe-ecb8-4878-b608-8df7766043a5"
      },
      "source": [
        "print('\\nWeight Matrix with no self connection:')\n",
        "\n",
        "E1= -0.5 * np.matmul(x[0],np.matmul(w,x11))\n",
        "print('\\nEnergy Calculations for pattern [1,1,1,1,1]:',E1)\n",
        "\n",
        "E2= -0.5 * np.matmul(x[1],np.matmul(w,x12))\n",
        "print('\\nEnergy Calculations for pattern [1,-1,-1,1,-1]:',E2)\n",
        "\n",
        "E3= -0.5 * np.matmul(x[2],np.matmul(w,x13))\n",
        "print('\\nEnergy Calculations for pattern [-1,1,-1,1,-1]:',E3)\n"
      ],
      "execution_count": 41,
      "outputs": [
        {
          "output_type": "stream",
          "text": [
            "\n",
            "Weight Matrix with no self connection:\n",
            "\n",
            "Energy Calculations for pattern [1,1,1,1,1]: [-17.5]\n",
            "\n",
            "Energy Calculations for pattern [1,-1,-1,1,-1]: [-13.5]\n",
            "\n",
            "Energy Calculations for pattern [-1,1,-1,1,-1]: [-17.5]\n"
          ],
          "name": "stdout"
        }
      ]
    },
    {
      "cell_type": "code",
      "metadata": {
        "colab": {
          "base_uri": "https://localhost:8080/"
        },
        "id": "srsxK9Vf9U00",
        "outputId": "2a867409-b3d4-4092-f025-106d4ac1370d"
      },
      "source": [
        "print('\\n\\nTESTING PHASE')\n",
        "w_dash=np.transpose(w)\n",
        "Yin1=t1[0][3]+ np.matmul(x[0],w_dash[3])\n",
        "if(Yin1>0):\n",
        "  t1[0][3]=1\n",
        "else:\n",
        "  t1[0][3]=-1\n",
        "\n",
        "if((t1==x).any()):\n",
        "  print('\\nPattern [1,1,1,-1,1] Recognized ')\n",
        "else:\n",
        "  print('\\nPattern [1,1,1,-1,1] not Recognized ')    "
      ],
      "execution_count": 42,
      "outputs": [
        {
          "output_type": "stream",
          "text": [
            "\n",
            "\n",
            "TESTING PHASE\n",
            "\n",
            "Pattern [1,1,1,-1,1] Recognized \n"
          ],
          "name": "stdout"
        }
      ]
    },
    {
      "cell_type": "code",
      "metadata": {
        "colab": {
          "base_uri": "https://localhost:8080/"
        },
        "id": "ENfmEVCx9zR6",
        "outputId": "2ffd8863-3f7c-4c5e-f853-439f470db372"
      },
      "source": [
        "Yin2=t2[0][3]+ np.matmul(x[1],w_dash[3])\n",
        "if(Yin2>0):\n",
        "  t2[0][3]=1\n",
        "else:\n",
        "  t2[0][3]=-1\n",
        "\n",
        "if((t2==x).any()):\n",
        "  print('\\nPattern [1,-1,-1,-1,-1] Recognized ')\n",
        "else:\n",
        "  print('\\nPattern [1,-1,-1,-1,-1] not Recognized ')    "
      ],
      "execution_count": 19,
      "outputs": [
        {
          "output_type": "stream",
          "text": [
            "\n",
            "Pattern [1,-1,-1,-1,-1] Recognized \n"
          ],
          "name": "stdout"
        }
      ]
    },
    {
      "cell_type": "code",
      "metadata": {
        "colab": {
          "base_uri": "https://localhost:8080/"
        },
        "id": "uHxF9q7U-OnZ",
        "outputId": "21a77b9d-8188-4223-ef18-b864225b9b27"
      },
      "source": [
        "Yin3=t3[0][0]+ np.matmul(x[2],w_dash[0])\n",
        "if(Yin3>0):\n",
        "  t3[0][0]=1\n",
        "else:\n",
        "  t3[0][0]=-1\n",
        "\n",
        "if((t3==x).any()):\n",
        "  print('\\nPattern [1,1,-1,-1,-1] Recognized ')\n",
        "else:\n",
        "  print('\\nPattern [1,1,-1,-1,-1] not Recognized ')"
      ],
      "execution_count": 20,
      "outputs": [
        {
          "output_type": "stream",
          "text": [
            "\n",
            "Pattern [1,1,-1,-1,-1] Recognized \n"
          ],
          "name": "stdout"
        }
      ]
    },
    {
      "cell_type": "code",
      "metadata": {
        "id": "8RlPnWWb-WcG"
      },
      "source": [
        ""
      ],
      "execution_count": null,
      "outputs": []
    }
  ]
}